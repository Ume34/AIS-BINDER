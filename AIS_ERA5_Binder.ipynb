# --- 必要ライブラリのインストール ---
!pip install cdsapi pandas openpyxl numpy xarray tqdm ipywidgets --quiet

# --- Step 1: CDS APIキー入力 ---
import os
api_key = input('Copernicus CDS APIキーを入力してください：')
os.environ['CDSAPI_KEY'] = api_key
os.environ['CDSAPI_URL'] = 'https://cds.climate.copernicus.eu/api'

# --- Step 2: AIS Excelアップロード (Binder対応) ---
import pandas as pd
import ipywidgets as widgets
from IPython.display import display
from io import BytesIO

uploader = widgets.FileUpload(
    accept='.xlsx',
    multiple=False
)
display(uploader)

def load_file(change):
    if len(uploader.value) > 0:
        uploaded_file = list(uploader.value.values())[0]
        content = uploaded_file['content']
        df = pd.read_excel(BytesIO(content))
        
        # 列名を小文字に統一
        df.rename(columns=lambda x: x.strip().lower(), inplace=True)
        
        # 列名統一
        df['lat'] = df['lat']
        df['lon'] = df['lng']
        # 日付と時間を結合してdatetimeに変換
        df['time'] = pd.to_datetime(df['date'] + ' ' + df['time'], dayfirst=True)
        
        global ais_df
        ais_df = df
        print("✅ AISファイル読み込み完了！")
        display(ais_df.head())

uploader.observe(load_file, names='value')

# --- Step 3: ERA5データ取得 ---
import cdsapi
c = cdsapi.Client()

def retrieve_era5(df):
    min_lat, max_lat = df['lat'].min()-1, df['lat'].max()+1
    min_lon, max_lon = df['lon'].min()-1, df['lon'].max()+1
    years = list({d.year for d in df['time']})
    months = list({d.month for d in df['time']})
    days = list({d.day for d in df['time']})
    
    c.retrieve(
        'reanalysis-era5-single-levels',
        {
            'product_type': 'reanalysis',
            'variable': ['2m_temperature','10m_u_component_of_wind','10m_v_component_of_wind','total_precipitation','surface_solar_radiation_downwards'],
            'year': years,
            'month': months,
            'day': days,
            'time': [f"{h:02d}:00" for h in range(24)],
            'format': 'netcdf',
            'area': [max_lat, min_lon, min_lat, max_lon],
        },
        'era5_subset.nc'
    )
    print("✅ ERA5データ取得完了")

# --- Step 4: ERA5補間 ---
import xarray as xr
import numpy as np

def interpolate_era5(df):
    ds = xr.open_dataset('era5_subset.nc')
    def interp_var(var):
        return ds[var].interp(latitude=('points', df['lat']),
                              longitude=('points', df['lon']),
                              time=('points', df['time']))
    
    df['air_temp_C'] = interp_var('t2m').values - 273.15
    df['wind_u'] = interp_var('u10').values
    df['wind_v'] = interp_var('v10').values
    df['precip_mm'] = interp_var('tp').values * 1000
    df['solar_Jm2'] = interp_var('ssrd').values
    df['wind_speed_mps'] = np.sqrt(df['wind_u']**2 + df['wind_v']**2)
    df['wind_dir_deg'] = (180/np.pi) * np.arctan2(df['wind_u'], df['wind_v']) + 180
    print("✅ ERA5補間完了")
    return df

# --- Step 5: Excel出力 ---
from IPython.display import FileLink

def export_excel(df, filename='AIS_with_weather.xlsx'):
    df.to_excel(filename, index=False)
    print(f"✅ Excel出力完了: {filename}")
    return FileLink(filename)

# --- 使用手順 ---
"""
1. AISファイルをアップロード (ais_df に自動読み込み)
2. retrieve_era5(ais_df) を実行してERA5データ取得
3. ais_df = interpolate_era5(ais_df) で補間
4. export_excel(ais_df) でExcel出力＆ダウンロードリンク表示
"""
