{
 "cells": [
  {
   "cell_type": "markdown",
   "metadata": {},
   "source": [
    "# 🚢 AIS航跡 + ERA5気象データ付加テンプレート（Binder対応）\n",
    "\n",
    "このノートブックは **Google Colab不要**、**ブラウザ上のBinder環境**で実行できます。\n",
    "\n",
    "ERA5の2m気温、風、降水、放射データをAIS位置情報に補間して付加します。"
   ]
  },
  {
   "cell_type": "code",
   "execution_count": null,
   "metadata": {},
   "outputs": [],
   "source": [
    "!pip install cdsapi pandas openpyxl numpy xarray netCDF4 tqdm"
   ]
  },
  {
   "cell_type": "code",
   "execution_count": null,
   "metadata": {},
   "outputs": [],
   "source": [
    "import pandas as pd\n",
    "import cdsapi, xarray as xr, numpy as np\n",
    "from datetime import datetime\n",
    "from tqdm import tqdm\n",
    "import os\n",
    "from IPython.display import FileLink\n",
    "\n",
    "print('✅ ライブラリ読み込み完了')"
   ]
  },
  {
   "cell_type": "markdown",
   "metadata": {},
   "source": [
    "## 🔑 Step 1: CDS APIキー設定\n",
    "Copernicusのアカウントページで取得した **APIキー** と **URL** を入力してください。"
   ]
  },
  {
   "cell_type": "code",
   "execution_count": null,
   "metadata": {},
   "outputs": [],
   "source": [
    "os.environ['CDSAPI_URL'] = 'https://cds.climate.copernicus.eu/api'\n",
    "os.environ['CDSAPI_KEY'] = input('CDS APIキーを入力してください：')\n",
    "\n",
    "c = cdsapi.Client()"
   ]
  },
  {
   "cell_type": "markdown",
   "metadata": {},
   "source": [
    "## 📂 Step 2: AISファイルをアップロード\n",
    "Excel（.xlsx）ファイルをアップロードしてください。列名に「lat」「lon」「time」または「date」を含む列が必要です。"
   ]
  },
  {
   "cell_type": "code",
   "execution_count": null,
   "metadata": {},
   "outputs": [],
   "source": [
    "from google.colab import files  # Binderでも使用可能\n",
    "uploaded = files.upload()\n",
    "filename = list(uploaded.keys())[0]\n",
    "df = pd.read_excel(filename)\n",
    "\n",
    "df.rename(columns=lambda x: x.strip().lower(), inplace=True)\n",
    "lat_col = [c for c in df.columns if 'lat' in c][0]\n",
    "lon_col = [c for c in df.columns if 'lon' in c or 'lng' in c][0]\n",
    "time_col = [c for c in df.columns if 'time' in c or 'date' in c][0]\n",
    "df[time_col] = pd.to_datetime(df[time_col])\n",
    "\n",
    "print('✅ データ読み込み完了')"
   ]
  },
  {
   "cell_type": "markdown",
   "metadata": {},
   "source": [
    "## 🌍 Step 3: 範囲と期間の設定"
   ]
  },
  {
   "cell_type": "code",
   "execution_count": null,
   "metadata": {},
   "outputs": [],
   "source": [
    "min_lat, max_lat = df[lat_col].min()-1, df[lat_col].max()+1\n",
    "min_lon, max_lon = df[lon_col].min()-1, df[lon_col].max()+1\n",
    "\n",
    "start_date = df[time_col].min().strftime('%Y-%m-%d')\n",
    "end_date = df[time_col].max().strftime('%Y-%m-%d')\n",
    "\n",
    "print(f'📍範囲: {min_lat}–{max_lat}N, {min_lon}–{max_lon}E')\n",
    "print(f'🕒期間: {start_date}〜{end_date}')"
   ]
  },
  {
   "cell_type": "markdown",
   "metadata": {},
   "source": [
    "## 🌦 Step 4: ERA5データを取得"
   ]
  },
  {
   "cell_type": "code",
   "execution_count": null,
   "metadata": {},
   "outputs": [],
   "source": [
    "c.retrieve(\n",
    "    'reanalysis-era5-single-levels',\n",
    "    {\n",
    "        'product_type': 'reanalysis',\n",
    "        'variable': [\n",
    "            '2m_temperature',\n",
    "            '10m_u_component_of_wind',\n",
    "            '10m_v_component_of_wind',\n",
    "            'total_precipitation',\n",
    "            'surface_solar_radiation_downwards'\n",
    "        ],\n",
    "        'year': list({d.year for d in df[time_col]}),\n",
    "        'month': list({d.month for d in df[time_col]}),\n",
    "        'day': list({d.day for d in df[time_col]}),\n",
    "        'time': [f\"{h:02d}:00\" for h in range(24)],\n",
    "        'format': 'netcdf',\n",
    "        'area': [max_lat, min_lon, min_lat, max_lon],\n",
    "    },\n",
    "    'era5_subset.nc'\n",
    ")\n",
    "\n",
    "print('✅ ERA5データ取得完了')"
   ]
  },
  {
   "cell_type": "markdown",
   "metadata": {},
   "source": [
    "## 📊 Step 5: データ補間と追加"
   ]
  },
  {
   "cell_type": "code",
   "execution_count": null,
   "metadata": {},
   "outputs": [],
   "source": [
    "ds = xr.open_dataset('era5_subset.nc')\n",
    "\n",
    "def interp_var(var):\n",
    "    return ds[var].interp(latitude=('points', df[lat_col]), longitude=('points', df[lon_col]), time=('points', df[time_col]))\n",
    "\n",
    "df['air_temp_C'] = interp_var('t2m').values - 273.15\n",
    "df['wind_u'] = interp_var('u10').values\n",
    "df['wind_v'] = interp_var('v10').values\n",
    "df['precip_mm'] = interp_var('tp').values * 1000\n",
    "df['solar_Jm2'] = interp_var('ssrd').values\n",
    "\n",
    "df['wind_speed_mps'] = np.sqrt(df['wind_u']**2 + df['wind_v']**2)\n",
    "df['wind_dir_deg'] = (180/np.pi) * np.arctan2(df['wind_u'], df['wind_v']) + 180\n",
    "\n",
    "print('✅ データ補間完了')"
   ]
  },
  {
   "cell_type": "markdown",
   "metadata": {},
   "source": [
    "## 💾 Step 6: 出力"
   ]
  },
  {
   "cell_type": "code",
   "execution_count": null,
   "metadata": {},
   "outputs": [],
   "source": [
    "output_filename = 'AIS_with_weather.xlsx'\n",
    "df.to_excel(output_filename, index=False)\n",
    "\n",
    "FileLink(output_filename)"
   ]
  }
 ],
 "metadata": {
  "kernelspec": {
   "display_name": "Python 3",
   "language": "python",
   "name": "python3"
  },
  "language_info": {
   "name": "python",
   "version": "3.x"
  }
 },
 "nbformat": 4,
 "nbformat_minor": 5
}
